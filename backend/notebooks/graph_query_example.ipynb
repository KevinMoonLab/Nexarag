{
 "cells": [
  {
   "cell_type": "markdown",
   "metadata": {},
   "source": [
    "# Overview\n",
    "LitReview now uses an Object-Graph Model (OGM) called `neomodel` which is used to generate python types from Neo4j queries. There are many benefits of using an OGM:\n",
    "* Type Safety: graph query responses are strongly typed, which makes it easier to read the code and detect errors\n",
    "* Complexity Reduction: OGMs simplify common behavior by wrapping queries and commands in functions\n",
    "* Explicit Modeling: Defining the types in code means the database can be built from the models directly\n",
    "* Asynchronous: Using the `adb` driver, queries can be executed asynchronously  \n"
   ]
  },
  {
   "cell_type": "markdown",
   "metadata": {},
   "source": [
    "# Usage\n",
    "## Connecting"
   ]
  },
  {
   "cell_type": "code",
   "execution_count": 1,
   "metadata": {},
   "outputs": [
    {
     "name": "stdout",
     "output_type": "stream",
     "text": [
      "Successfully connected to Neo4j!\n"
     ]
    }
   ],
   "source": [
    "from db.util import neomodel_connect\n",
    "res = await neomodel_connect()\n",
    "print(res.message)"
   ]
  },
  {
   "cell_type": "markdown",
   "metadata": {},
   "source": [
    "## Querying\n",
    "### Cypher with Pandas"
   ]
  },
  {
   "cell_type": "code",
   "execution_count": null,
   "metadata": {},
   "outputs": [
    {
     "data": {
      "text/html": [
       "<div>\n",
       "<style scoped>\n",
       "    .dataframe tbody tr th:only-of-type {\n",
       "        vertical-align: middle;\n",
       "    }\n",
       "\n",
       "    .dataframe tbody tr th {\n",
       "        vertical-align: top;\n",
       "    }\n",
       "\n",
       "    .dataframe thead th {\n",
       "        text-align: right;\n",
       "    }\n",
       "</style>\n",
       "<table border=\"1\" class=\"dataframe\">\n",
       "  <thead>\n",
       "    <tr style=\"text-align: right;\">\n",
       "      <th></th>\n",
       "      <th>Name</th>\n",
       "      <th>AuthorId</th>\n",
       "    </tr>\n",
       "  </thead>\n",
       "  <tbody>\n",
       "    <tr>\n",
       "      <th>0</th>\n",
       "      <td>Wouter Saelens</td>\n",
       "      <td>7384090</td>\n",
       "    </tr>\n",
       "    <tr>\n",
       "      <th>1</th>\n",
       "      <td>Robrecht Cannoodt</td>\n",
       "      <td>5972404</td>\n",
       "    </tr>\n",
       "    <tr>\n",
       "      <th>2</th>\n",
       "      <td>H. Todorov</td>\n",
       "      <td>51135161</td>\n",
       "    </tr>\n",
       "    <tr>\n",
       "      <th>3</th>\n",
       "      <td>Y. Saeys</td>\n",
       "      <td>1989271</td>\n",
       "    </tr>\n",
       "    <tr>\n",
       "      <th>4</th>\n",
       "      <td>F. A. Wolf</td>\n",
       "      <td>144794063</td>\n",
       "    </tr>\n",
       "  </tbody>\n",
       "</table>\n",
       "</div>"
      ],
      "text/plain": [
       "                Name   AuthorId\n",
       "0     Wouter Saelens    7384090\n",
       "1  Robrecht Cannoodt    5972404\n",
       "2         H. Todorov   51135161\n",
       "3           Y. Saeys    1989271\n",
       "4         F. A. Wolf  144794063"
      ]
     },
     "execution_count": 2,
     "metadata": {},
     "output_type": "execute_result"
    }
   ],
   "source": [
    "# Using cypher and pandas\n",
    "from neomodel.integration.pandas import to_dataframe\n",
    "from neomodel import adb\n",
    "\n",
    "res = await adb.cypher_query(\"MATCH (a:Author) RETURN a.name as Name, a.authorId as AuthorId\")\n",
    "df = to_dataframe(res)\n",
    "df.head()"
   ]
  },
  {
   "cell_type": "markdown",
   "metadata": {},
   "source": [
    "### Neomodel"
   ]
  },
  {
   "cell_type": "code",
   "execution_count": 3,
   "metadata": {},
   "outputs": [],
   "source": [
    "from db.models.persistence import Author, Paper\n",
    "\n",
    "# Query all author and paper nodes\n",
    "people = await Author.nodes.all()\n",
    "papers = await Paper.nodes.all()"
   ]
  },
  {
   "cell_type": "code",
   "execution_count": 4,
   "metadata": {},
   "outputs": [
    {
     "data": {
      "text/plain": [
       "<Paper: {'uid': 'e060e4e25d8f4d9899a13764fc0e8aa0', 'paper_id': '5678', 'url': None, 'title': 'My Paper', 'abstract': 'This is my paper', 'venue': None, 'publication_venue': None, 'year': None, 'reference_count': None, 'citation_count': None, 'influential_citation_count': None, 'fields_of_study': None, 'publication_types': None, 'publication_date': None, 'element_id_property': '4:a80c54f2-e783-4768-86e7-1415a1b5328e:704'}>"
      ]
     },
     "execution_count": 4,
     "metadata": {},
     "output_type": "execute_result"
    }
   ],
   "source": [
    "# Add a new author and paper\n",
    "author = Author(name=\"John Doe\", author_id=\"1234\")\n",
    "paper = Paper(title=\"My Paper\", paper_id=\"5678\", abstract=\"This is my paper\")\n",
    "\n",
    "# Save\n",
    "await author.save()\n",
    "await paper.save()"
   ]
  },
  {
   "cell_type": "code",
   "execution_count": 5,
   "metadata": {},
   "outputs": [
    {
     "data": {
      "text/plain": [
       "True"
      ]
     },
     "execution_count": 5,
     "metadata": {},
     "output_type": "execute_result"
    }
   ],
   "source": [
    "# Add relationship\n",
    "await author.authored.connect(paper)"
   ]
  },
  {
   "cell_type": "code",
   "execution_count": 6,
   "metadata": {},
   "outputs": [
    {
     "name": "stdout",
     "output_type": "stream",
     "text": [
      "Found author: John Doe\n"
     ]
    }
   ],
   "source": [
    "# Query author by name\n",
    "queried_author = await Author.nodes.filter(name=\"John Doe\").first_or_none()\n",
    "if queried_author:\n",
    "    print(f\"Found author: {queried_author.name}\")"
   ]
  },
  {
   "cell_type": "code",
   "execution_count": 7,
   "metadata": {},
   "outputs": [
    {
     "name": "stdout",
     "output_type": "stream",
     "text": [
      "Updated paper abstract: Updated abstract content\n"
     ]
    }
   ],
   "source": [
    "# Update paper details\n",
    "paper.abstract = \"Updated abstract content\"\n",
    "await paper.save()\n",
    "print(f\"Updated paper abstract: {paper.abstract}\")"
   ]
  },
  {
   "cell_type": "code",
   "execution_count": 8,
   "metadata": {},
   "outputs": [
    {
     "name": "stdout",
     "output_type": "stream",
     "text": [
      "John Doe has authored 1 papers.\n",
      "My Paper has 1 authors.\n"
     ]
    }
   ],
   "source": [
    "# Retrieve all papers authored by this author\n",
    "authored_papers = await author.authored.all()\n",
    "\n",
    "# Retrieve all authors of this paper\n",
    "paper_authors = await paper.authors.all()\n",
    "\n",
    "print(f\"{author.name} has authored {len(authored_papers)} papers.\")\n",
    "print(f\"{paper.title} has {len(paper_authors)} authors.\")"
   ]
  },
  {
   "cell_type": "code",
   "execution_count": 9,
   "metadata": {},
   "outputs": [
    {
     "name": "stdout",
     "output_type": "stream",
     "text": [
      "Disconnected John Doe from My Paper\n"
     ]
    }
   ],
   "source": [
    "# Disconnect relationship\n",
    "await author.authored.disconnect(paper)\n",
    "print(f\"Disconnected {author.name} from {paper.title}\")"
   ]
  },
  {
   "cell_type": "code",
   "execution_count": 10,
   "metadata": {},
   "outputs": [
    {
     "name": "stdout",
     "output_type": "stream",
     "text": [
      "Deleted John Doe and My Paper\n"
     ]
    }
   ],
   "source": [
    "# Delete nodes\n",
    "await author.delete()\n",
    "await paper.delete()\n",
    "print(f\"Deleted {author.name} and {paper.title}\")"
   ]
  }
 ],
 "metadata": {
  "kernelspec": {
   "display_name": "Python 3",
   "language": "python",
   "name": "python3"
  },
  "language_info": {
   "codemirror_mode": {
    "name": "ipython",
    "version": 3
   },
   "file_extension": ".py",
   "mimetype": "text/x-python",
   "name": "python",
   "nbconvert_exporter": "python",
   "pygments_lexer": "ipython3",
   "version": "3.11.11"
  }
 },
 "nbformat": 4,
 "nbformat_minor": 2
}
