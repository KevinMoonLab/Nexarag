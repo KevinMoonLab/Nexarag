{
 "cells": [
  {
   "cell_type": "code",
   "execution_count": 7,
   "id": "a56749ff",
   "metadata": {},
   "outputs": [
    {
     "data": {
      "text/plain": [
       "ListResponse(models=[Model(model='gemma3:1b', modified_at=datetime.datetime(2025, 5, 17, 20, 29, 6, 797160, tzinfo=TzInfo(UTC)), digest='8648f39daa8fbf5b18c7b4e6a8fb4990c692751d49917417b8842ca5758e7ffc', size=815319791, details=ModelDetails(parent_model='', format='gguf', family='gemma3', families=['gemma3'], parameter_size='999.89M', quantization_level='Q4_K_M'))])"
      ]
     },
     "execution_count": 7,
     "metadata": {},
     "output_type": "execute_result"
    }
   ],
   "source": [
    "import ollama\n",
    "from ollama import Client\n",
    "client = Client(\n",
    "  host='http://ollama.dev:11434',\n",
    ")\n",
    "client.list()"
   ]
  },
  {
   "cell_type": "code",
   "execution_count": 8,
   "id": "bb133159",
   "metadata": {},
   "outputs": [
    {
     "name": "stdout",
     "output_type": "stream",
     "text": [
      "The capital of France is **Paris**. \n",
      "\n",
      "It’s a very popular question, and it’s easy to forget! 😊 \n",
      "\n",
      "Do you want to know more about Paris?\n"
     ]
    }
   ],
   "source": [
    "from langchain_ollama.llms import OllamaLLM\n",
    "import os\n",
    "base_url = os.getenv(\"OLLAMA_BASE_URL\", \"http://ollama.dev:11343\")\n",
    "\n",
    "llm = OllamaLLM(model=\"gemma3:1b\", base_url=base_url)\n",
    "response = llm.invoke(\"What is the capital of France?\")\n",
    "print(response)"
   ]
  }
 ],
 "metadata": {
  "kernelspec": {
   "display_name": "Python 3",
   "language": "python",
   "name": "python3"
  },
  "language_info": {
   "codemirror_mode": {
    "name": "ipython",
    "version": 3
   },
   "file_extension": ".py",
   "mimetype": "text/x-python",
   "name": "python",
   "nbconvert_exporter": "python",
   "pygments_lexer": "ipython3",
   "version": "3.11.12"
  }
 },
 "nbformat": 4,
 "nbformat_minor": 5
}
