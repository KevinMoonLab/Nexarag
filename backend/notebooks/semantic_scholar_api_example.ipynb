{
 "cells": [
  {
   "cell_type": "code",
   "execution_count": 12,
   "metadata": {},
   "outputs": [],
   "source": [
    "from scholar.api import partial_search, title_search, enrich_papers, enrich_authors"
   ]
  },
  {
   "cell_type": "markdown",
   "metadata": {},
   "source": [
    "## Full and Partial Searching"
   ]
  },
  {
   "cell_type": "code",
   "execution_count": 13,
   "metadata": {},
   "outputs": [],
   "source": [
    "partial_search_results = partial_search(\"Visualizing Structure and Transitions\")\n",
    "title_search_results = title_search(\"Sustained IFN signaling is associated with delayed development of SARS-CoV-2-specific immunity\")"
   ]
  },
  {
   "cell_type": "markdown",
   "metadata": {},
   "source": [
    "## Enriching Data"
   ]
  },
  {
   "cell_type": "code",
   "execution_count": 14,
   "metadata": {},
   "outputs": [
    {
     "data": {
      "text/plain": [
       "ScholarPaper(paper_id='8ad65513498b428656d51cb097b66b6fd5798bd0', url='', title='Visualizing structure and transitions in high-dimensional biological data', abstract=None, venue='Nature Biotechnology', publication_venue={'id': '458166b3-de17-4bf3-bbbb-e53782de2f0f', 'name': 'Nature Biotechnology', 'type': 'journal', 'alternate_names': ['Nat Biotechnol'], 'issn': '1087-0156', 'url': 'http://www.nature.com/nbt/', 'alternate_urls': ['http://www.nature.com/nbt']}, year=2019, reference_count=89, citation_count=734, influential_citation_count=90, fields_of_study=[], publication_types=['JournalArticle'], publication_date='2019-12-01', journal={'name': 'Nature Biotechnology', 'pages': '1482 - 1492', 'volume': '37'}, authors=[ScholarAuthor(author_id='144493740', url='', name='Kevin R. Moon', affiliations=[], homepage=None, paper_count=0, citation_count=0, h_index=0), ScholarAuthor(author_id='50756914', url='', name='David van Dijk', affiliations=[], homepage=None, paper_count=0, citation_count=0, h_index=0), ScholarAuthor(author_id='1720834', url='', name='Z. Wang', affiliations=[], homepage=None, paper_count=0, citation_count=0, h_index=0), ScholarAuthor(author_id='144416511', url='', name='Scott A. Gigante', affiliations=[], homepage=None, paper_count=0, citation_count=0, h_index=0), ScholarAuthor(author_id='145180324', url='', name='Daniel B. Burkhardt', affiliations=[], homepage=None, paper_count=0, citation_count=0, h_index=0), ScholarAuthor(author_id='2109082251', url='', name='William S. Chen', affiliations=[], homepage=None, paper_count=0, citation_count=0, h_index=0), ScholarAuthor(author_id='34664294', url='', name='Kristina M. Yim', affiliations=[], homepage=None, paper_count=0, citation_count=0, h_index=0), ScholarAuthor(author_id='28064206', url='', name='A. V. D. Elzen', affiliations=[], homepage=None, paper_count=0, citation_count=0, h_index=0), ScholarAuthor(author_id='145500870', url='', name='M. Hirn', affiliations=[], homepage=None, paper_count=0, citation_count=0, h_index=0), ScholarAuthor(author_id='1780112', url='', name='R. Coifman', affiliations=[], homepage=None, paper_count=0, citation_count=0, h_index=0), ScholarAuthor(author_id='15009799', url='', name='Natalia B. Ivanova', affiliations=[], homepage=None, paper_count=0, citation_count=0, h_index=0), ScholarAuthor(author_id='2683398', url='', name='Guy Wolf', affiliations=[], homepage=None, paper_count=0, citation_count=0, h_index=0), ScholarAuthor(author_id='144586483', url='', name='Smita Krishnaswamy', affiliations=[], homepage=None, paper_count=0, citation_count=0, h_index=0)])"
      ]
     },
     "execution_count": 14,
     "metadata": {},
     "output_type": "execute_result"
    }
   ],
   "source": [
    "papers = enrich_papers(partial_search_results)\n",
    "papers[0]"
   ]
  },
  {
   "cell_type": "code",
   "execution_count": 15,
   "metadata": {},
   "outputs": [
    {
     "data": {
      "text/plain": [
       "ScholarAuthor(author_id='144493740', url='https://www.semanticscholar.org/author/144493740', name='Kevin R. Moon', affiliations=[], homepage=None, paper_count=52, citation_count=3253, h_index=18)"
      ]
     },
     "execution_count": 15,
     "metadata": {},
     "output_type": "execute_result"
    }
   ],
   "source": [
    "authors = enrich_authors([author.author_id for author in papers[0].authors])\n",
    "authors[0]"
   ]
  }
 ],
 "metadata": {
  "kernelspec": {
   "display_name": "Python 3",
   "language": "python",
   "name": "python3"
  },
  "language_info": {
   "codemirror_mode": {
    "name": "ipython",
    "version": 3
   },
   "file_extension": ".py",
   "mimetype": "text/x-python",
   "name": "python",
   "nbconvert_exporter": "python",
   "pygments_lexer": "ipython3",
   "version": "3.11.11"
  }
 },
 "nbformat": 4,
 "nbformat_minor": 2
}
